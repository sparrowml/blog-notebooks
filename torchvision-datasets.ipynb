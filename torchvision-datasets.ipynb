{
 "cells": [
  {
   "cell_type": "code",
   "execution_count": 1,
   "id": "513a18c9",
   "metadata": {},
   "outputs": [
    {
     "data": {
      "text/plain": [
       "0"
      ]
     },
     "execution_count": 1,
     "metadata": {},
     "output_type": "execute_result"
    }
   ],
   "source": [
    "# Install the latest versions of the packages.\n",
    "# For an explanation of this trick, see\n",
    "# https://sparrow.dev/install-packages-jupyter-notebook/\n",
    "\n",
    "import subprocess\n",
    "import sys\n",
    "\n",
    "PACKAGES = [\n",
    "    \"torch\",\n",
    "    \"torchvision\",\n",
    "]\n",
    "\n",
    "python_path = sys.executable\n",
    "package_list = \" \".join(PACKAGES)\n",
    "cmd = f\"{python_path} -m pip install --upgrade {package_list}\"\n",
    "subprocess.check_call(cmd.split())"
   ]
  },
  {
   "cell_type": "code",
   "execution_count": 2,
   "id": "79ebad73",
   "metadata": {},
   "outputs": [
    {
     "data": {
      "text/plain": [
       "(28, 28)"
      ]
     },
     "execution_count": 2,
     "metadata": {},
     "output_type": "execute_result"
    }
   ],
   "source": [
    "from torchvision import datasets\n",
    "\n",
    "dataset = datasets.MNIST(root=\"./\", download=True)\n",
    "img, label = dataset[10]\n",
    "img.size\n",
    "\n",
    "# Expected result\n",
    "# (28, 28)"
   ]
  },
  {
   "cell_type": "code",
   "execution_count": 3,
   "id": "43eec625",
   "metadata": {},
   "outputs": [],
   "source": [
    "assert img.size == (28, 28)"
   ]
  },
  {
   "cell_type": "code",
   "execution_count": 4,
   "id": "19a9949d",
   "metadata": {},
   "outputs": [
    {
     "data": {
      "text/plain": [
       "60000"
      ]
     },
     "execution_count": 4,
     "metadata": {},
     "output_type": "execute_result"
    }
   ],
   "source": [
    "len(dataset)\n",
    "\n",
    "# Expected result\n",
    "# 60000"
   ]
  },
  {
   "cell_type": "code",
   "execution_count": 5,
   "id": "21159ea6",
   "metadata": {},
   "outputs": [],
   "source": [
    "assert len(dataset) == 60000"
   ]
  },
  {
   "cell_type": "code",
   "execution_count": 6,
   "id": "f9b9950e",
   "metadata": {},
   "outputs": [
    {
     "data": {
      "text/plain": [
       "torch.Size([4, 1, 28, 28])"
      ]
     },
     "execution_count": 6,
     "metadata": {},
     "output_type": "execute_result"
    }
   ],
   "source": [
    "import torch\n",
    "from torchvision import transforms\n",
    "\n",
    "dataset = datasets.MNIST(\n",
    "    root=\"./\",\n",
    "    transform=transforms.ToTensor()\n",
    ")\n",
    "data_loader = torch.utils.data.DataLoader(dataset, batch_size=4)\n",
    "\n",
    "x, y = next(iter(data_loader))\n",
    "\n",
    "x.shape\n",
    "\n",
    "# Expected result\n",
    "# torch.Size([4, 1, 28, 28])"
   ]
  },
  {
   "cell_type": "code",
   "execution_count": 7,
   "id": "47019480",
   "metadata": {},
   "outputs": [],
   "source": [
    "assert x.shape == torch.Size([4, 1, 28, 28])"
   ]
  }
 ],
 "metadata": {
  "kernelspec": {
   "display_name": "Python 3",
   "language": "python",
   "name": "python3"
  },
  "language_info": {
   "codemirror_mode": {
    "name": "ipython",
    "version": 3
   },
   "file_extension": ".py",
   "mimetype": "text/x-python",
   "name": "python",
   "nbconvert_exporter": "python",
   "pygments_lexer": "ipython3",
   "version": "3.8.8"
  }
 },
 "nbformat": 4,
 "nbformat_minor": 5
}
